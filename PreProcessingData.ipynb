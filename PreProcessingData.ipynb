{
 "cells": [
  {
   "cell_type": "markdown",
   "metadata": {},
   "source": [
    "# Life Expectancy Project (Preprocessing file):"
   ]
  },
  {
   "cell_type": "code",
   "execution_count": 6,
   "metadata": {},
   "outputs": [
    {
     "ename": "ModuleNotFoundError",
     "evalue": "No module named 'ptitprince'",
     "output_type": "error",
     "traceback": [
      "\u001b[1;31m---------------------------------------------------------------------------\u001b[0m",
      "\u001b[1;31mModuleNotFoundError\u001b[0m                       Traceback (most recent call last)",
      "Cell \u001b[1;32mIn[6], line 6\u001b[0m\n\u001b[0;32m      4\u001b[0m \u001b[38;5;28;01mimport\u001b[39;00m \u001b[38;5;21;01mskimpy\u001b[39;00m \n\u001b[0;32m      5\u001b[0m \u001b[38;5;28;01mfrom\u001b[39;00m \u001b[38;5;21;01mskimpy\u001b[39;00m \u001b[38;5;28;01mimport\u001b[39;00m skim\n\u001b[1;32m----> 6\u001b[0m \u001b[38;5;28;01mimport\u001b[39;00m \u001b[38;5;21;01mptitprince\u001b[39;00m \u001b[38;5;28;01mas\u001b[39;00m \u001b[38;5;21;01mpt\u001b[39;00m \n",
      "\u001b[1;31mModuleNotFoundError\u001b[0m: No module named 'ptitprince'"
     ]
    }
   ],
   "source": [
    "import pandas as pd \n",
    "import seaborn as sns\n",
    "import matplotlib.pyplot as plt \n",
    "import skimpy \n",
    "from skimpy import skim\n",
    "import ptitprince as pt "
   ]
  },
  {
   "cell_type": "code",
   "execution_count": 2,
   "metadata": {},
   "outputs": [],
   "source": [
    "df = pd.read_csv(\"LE_Dataset.csv\")"
   ]
  },
  {
   "cell_type": "code",
   "execution_count": 3,
   "metadata": {},
   "outputs": [
    {
     "name": "stdout",
     "output_type": "stream",
     "text": [
      "<class 'pandas.core.frame.DataFrame'>\n",
      "RangeIndex: 2938 entries, 0 to 2937\n",
      "Data columns (total 22 columns):\n",
      " #   Column                           Non-Null Count  Dtype  \n",
      "---  ------                           --------------  -----  \n",
      " 0   Country                          2938 non-null   object \n",
      " 1   Year                             2938 non-null   int64  \n",
      " 2   Status                           2938 non-null   object \n",
      " 3   Life expectancy                  2928 non-null   float64\n",
      " 4   Adult Mortality                  2928 non-null   float64\n",
      " 5   infant deaths                    2938 non-null   int64  \n",
      " 6   Alcohol                          2744 non-null   float64\n",
      " 7   percentage expenditure           2938 non-null   float64\n",
      " 8   Hepatitis B                      2385 non-null   float64\n",
      " 9   Measles                          2938 non-null   int64  \n",
      " 10   BMI                             2904 non-null   float64\n",
      " 11  under-five deaths                2938 non-null   int64  \n",
      " 12  Polio                            2919 non-null   float64\n",
      " 13  Total expenditure                2712 non-null   float64\n",
      " 14  Diphtheria                       2919 non-null   float64\n",
      " 15   HIV/AIDS                        2938 non-null   float64\n",
      " 16  GDP                              2490 non-null   float64\n",
      " 17  Population                       2286 non-null   float64\n",
      " 18   thinness  1-19 years            2904 non-null   float64\n",
      " 19   thinness 5-9 years              2904 non-null   float64\n",
      " 20  Income composition of resources  2771 non-null   float64\n",
      " 21  Schooling                        2775 non-null   float64\n",
      "dtypes: float64(16), int64(4), object(2)\n",
      "memory usage: 505.1+ KB\n"
     ]
    }
   ],
   "source": [
    "df.info();"
   ]
  },
  {
   "cell_type": "code",
   "execution_count": 4,
   "metadata": {},
   "outputs": [
    {
     "data": {
      "text/plain": [
       "Country                              0\n",
       "Year                                 0\n",
       "Status                               0\n",
       "Life expectancy                     10\n",
       "Adult Mortality                     10\n",
       "infant deaths                        0\n",
       "Alcohol                            194\n",
       "percentage expenditure               0\n",
       "Hepatitis B                        553\n",
       "Measles                              0\n",
       " BMI                                34\n",
       "under-five deaths                    0\n",
       "Polio                               19\n",
       "Total expenditure                  226\n",
       "Diphtheria                          19\n",
       " HIV/AIDS                            0\n",
       "GDP                                448\n",
       "Population                         652\n",
       " thinness  1-19 years               34\n",
       " thinness 5-9 years                 34\n",
       "Income composition of resources    167\n",
       "Schooling                          163\n",
       "dtype: int64"
      ]
     },
     "execution_count": 4,
     "metadata": {},
     "output_type": "execute_result"
    }
   ],
   "source": [
    "df.isna().sum()"
   ]
  },
  {
   "cell_type": "code",
   "execution_count": 5,
   "metadata": {},
   "outputs": [
    {
     "data": {
      "text/html": [
       "<pre style=\"white-space:pre;overflow-x:auto;line-height:normal;font-family:Menlo,'DejaVu Sans Mono',consolas,'Courier New',monospace\">╭──────────────────────────────────────────────── skimpy summary ─────────────────────────────────────────────────╮\n",
       "│ <span style=\"font-style: italic\">         Data Summary         </span> <span style=\"font-style: italic\">      Data Types       </span>                                                          │\n",
       "│ ┏━━━━━━━━━━━━━━━━━━━┳━━━━━━━━┓ ┏━━━━━━━━━━━━━┳━━━━━━━┓                                                          │\n",
       "│ ┃<span style=\"color: #008080; text-decoration-color: #008080; font-weight: bold\"> dataframe         </span>┃<span style=\"color: #008080; text-decoration-color: #008080; font-weight: bold\"> Values </span>┃ ┃<span style=\"color: #008080; text-decoration-color: #008080; font-weight: bold\"> Column Type </span>┃<span style=\"color: #008080; text-decoration-color: #008080; font-weight: bold\"> Count </span>┃                                                          │\n",
       "│ ┡━━━━━━━━━━━━━━━━━━━╇━━━━━━━━┩ ┡━━━━━━━━━━━━━╇━━━━━━━┩                                                          │\n",
       "│ │ Number of rows    │ 2938   │ │ float64     │ 16    │                                                          │\n",
       "│ │ Number of columns │ 22     │ │ int32       │ 4     │                                                          │\n",
       "│ └───────────────────┴────────┘ │ string      │ 2     │                                                          │\n",
       "│                                └─────────────┴───────┘                                                          │\n",
       "│ <span style=\"font-style: italic\">                                                    number                                                    </span>  │\n",
       "│ ┏━━━━━━━━━━━━━┳━━━━━┳━━━━━━━┳━━━━━━━━━━┳━━━━━━━━━━┳━━━━━━━┳━━━━━━━━┳━━━━━━━━━┳━━━━━━━━━┳━━━━━━━━━━━━┳━━━━━━━━┓  │\n",
       "│ ┃<span style=\"font-weight: bold\"> column_name </span>┃<span style=\"font-weight: bold\"> NA  </span>┃<span style=\"font-weight: bold\"> NA %  </span>┃<span style=\"font-weight: bold\"> mean     </span>┃<span style=\"font-weight: bold\"> sd       </span>┃<span style=\"font-weight: bold\"> p0    </span>┃<span style=\"font-weight: bold\"> p25    </span>┃<span style=\"font-weight: bold\"> p50     </span>┃<span style=\"font-weight: bold\"> p75     </span>┃<span style=\"font-weight: bold\"> p100       </span>┃<span style=\"font-weight: bold\"> hist   </span>┃  │\n",
       "│ ┡━━━━━━━━━━━━━╇━━━━━╇━━━━━━━╇━━━━━━━━━━╇━━━━━━━━━━╇━━━━━━━╇━━━━━━━━╇━━━━━━━━━╇━━━━━━━━━╇━━━━━━━━━━━━╇━━━━━━━━┩  │\n",
       "│ │ <span style=\"color: #af87ff; text-decoration-color: #af87ff\">Year       </span> │ <span style=\"color: #008080; text-decoration-color: #008080\">  0</span> │ <span style=\"color: #008080; text-decoration-color: #008080\">    0</span> │ <span style=\"color: #008080; text-decoration-color: #008080\">    2008</span> │ <span style=\"color: #008080; text-decoration-color: #008080\">   4.614</span> │ <span style=\"color: #008080; text-decoration-color: #008080\"> 2000</span> │ <span style=\"color: #008080; text-decoration-color: #008080\">  2004</span> │ <span style=\"color: #008080; text-decoration-color: #008080\">   2008</span> │ <span style=\"color: #008080; text-decoration-color: #008080\">   2012</span> │ <span style=\"color: #008080; text-decoration-color: #008080\">      2015</span> │ <span style=\"color: #008000; text-decoration-color: #008000\">▇▅▇▅▇▇</span> │  │\n",
       "│ │ <span style=\"color: #af87ff; text-decoration-color: #af87ff\">Life       </span> │ <span style=\"color: #008080; text-decoration-color: #008080\"> 10</span> │ <span style=\"color: #008080; text-decoration-color: #008080\"> 0.34</span> │ <span style=\"color: #008080; text-decoration-color: #008080\">   69.22</span> │ <span style=\"color: #008080; text-decoration-color: #008080\">   9.524</span> │ <span style=\"color: #008080; text-decoration-color: #008080\"> 36.3</span> │ <span style=\"color: #008080; text-decoration-color: #008080\">  63.1</span> │ <span style=\"color: #008080; text-decoration-color: #008080\">   72.1</span> │ <span style=\"color: #008080; text-decoration-color: #008080\">   75.7</span> │ <span style=\"color: #008080; text-decoration-color: #008080\">        89</span> │ <span style=\"color: #008000; text-decoration-color: #008000\"> ▁▃▅▇▂</span> │  │\n",
       "│ │ <span style=\"color: #af87ff; text-decoration-color: #af87ff\">expectancy </span> │     │       │          │          │       │        │         │         │            │        │  │\n",
       "│ │ <span style=\"color: #af87ff; text-decoration-color: #af87ff\">Adult      </span> │ <span style=\"color: #008080; text-decoration-color: #008080\"> 10</span> │ <span style=\"color: #008080; text-decoration-color: #008080\"> 0.34</span> │ <span style=\"color: #008080; text-decoration-color: #008080\">   164.8</span> │ <span style=\"color: #008080; text-decoration-color: #008080\">   124.3</span> │ <span style=\"color: #008080; text-decoration-color: #008080\">    1</span> │ <span style=\"color: #008080; text-decoration-color: #008080\">    74</span> │ <span style=\"color: #008080; text-decoration-color: #008080\">    144</span> │ <span style=\"color: #008080; text-decoration-color: #008080\">    228</span> │ <span style=\"color: #008080; text-decoration-color: #008080\">       723</span> │ <span style=\"color: #008000; text-decoration-color: #008000\"> ▇▇▃▁ </span> │  │\n",
       "│ │ <span style=\"color: #af87ff; text-decoration-color: #af87ff\">Mortality  </span> │     │       │          │          │       │        │         │         │            │        │  │\n",
       "│ │ <span style=\"color: #af87ff; text-decoration-color: #af87ff\">infant     </span> │ <span style=\"color: #008080; text-decoration-color: #008080\">  0</span> │ <span style=\"color: #008080; text-decoration-color: #008080\">    0</span> │ <span style=\"color: #008080; text-decoration-color: #008080\">    30.3</span> │ <span style=\"color: #008080; text-decoration-color: #008080\">   117.9</span> │ <span style=\"color: #008080; text-decoration-color: #008080\">    0</span> │ <span style=\"color: #008080; text-decoration-color: #008080\">     0</span> │ <span style=\"color: #008080; text-decoration-color: #008080\">      3</span> │ <span style=\"color: #008080; text-decoration-color: #008080\">     22</span> │ <span style=\"color: #008080; text-decoration-color: #008080\">      1800</span> │ <span style=\"color: #008000; text-decoration-color: #008000\">  ▇   </span> │  │\n",
       "│ │ <span style=\"color: #af87ff; text-decoration-color: #af87ff\">deaths     </span> │     │       │          │          │       │        │         │         │            │        │  │\n",
       "│ │ <span style=\"color: #af87ff; text-decoration-color: #af87ff\">Alcohol    </span> │ <span style=\"color: #008080; text-decoration-color: #008080\">194</span> │ <span style=\"color: #008080; text-decoration-color: #008080\">  6.6</span> │ <span style=\"color: #008080; text-decoration-color: #008080\">   4.603</span> │ <span style=\"color: #008080; text-decoration-color: #008080\">   4.052</span> │ <span style=\"color: #008080; text-decoration-color: #008080\"> 0.01</span> │ <span style=\"color: #008080; text-decoration-color: #008080\">0.8775</span> │ <span style=\"color: #008080; text-decoration-color: #008080\">  3.755</span> │ <span style=\"color: #008080; text-decoration-color: #008080\">  7.703</span> │ <span style=\"color: #008080; text-decoration-color: #008080\">     17.87</span> │ <span style=\"color: #008000; text-decoration-color: #008000\">▇▃▃▂▁ </span> │  │\n",
       "│ │ <span style=\"color: #af87ff; text-decoration-color: #af87ff\">percentage </span> │ <span style=\"color: #008080; text-decoration-color: #008080\">  0</span> │ <span style=\"color: #008080; text-decoration-color: #008080\">    0</span> │ <span style=\"color: #008080; text-decoration-color: #008080\">   738.3</span> │ <span style=\"color: #008080; text-decoration-color: #008080\">    1988</span> │ <span style=\"color: #008080; text-decoration-color: #008080\">    0</span> │ <span style=\"color: #008080; text-decoration-color: #008080\"> 4.685</span> │ <span style=\"color: #008080; text-decoration-color: #008080\">  64.91</span> │ <span style=\"color: #008080; text-decoration-color: #008080\">  441.5</span> │ <span style=\"color: #008080; text-decoration-color: #008080\">     19480</span> │ <span style=\"color: #008000; text-decoration-color: #008000\">  ▇   </span> │  │\n",
       "│ │ <span style=\"color: #af87ff; text-decoration-color: #af87ff\">expenditure</span> │     │       │          │          │       │        │         │         │            │        │  │\n",
       "│ │ <span style=\"color: #af87ff; text-decoration-color: #af87ff\">Hepatitis B</span> │ <span style=\"color: #008080; text-decoration-color: #008080\">553</span> │ <span style=\"color: #008080; text-decoration-color: #008080\">18.82</span> │ <span style=\"color: #008080; text-decoration-color: #008080\">   80.94</span> │ <span style=\"color: #008080; text-decoration-color: #008080\">   25.07</span> │ <span style=\"color: #008080; text-decoration-color: #008080\">    1</span> │ <span style=\"color: #008080; text-decoration-color: #008080\">    77</span> │ <span style=\"color: #008080; text-decoration-color: #008080\">     92</span> │ <span style=\"color: #008080; text-decoration-color: #008080\">     97</span> │ <span style=\"color: #008080; text-decoration-color: #008080\">        99</span> │ <span style=\"color: #008000; text-decoration-color: #008000\">▁  ▁▂▇</span> │  │\n",
       "│ │ <span style=\"color: #af87ff; text-decoration-color: #af87ff\">Measles    </span> │ <span style=\"color: #008080; text-decoration-color: #008080\">  0</span> │ <span style=\"color: #008080; text-decoration-color: #008080\">    0</span> │ <span style=\"color: #008080; text-decoration-color: #008080\">    2420</span> │ <span style=\"color: #008080; text-decoration-color: #008080\">   11470</span> │ <span style=\"color: #008080; text-decoration-color: #008080\">    0</span> │ <span style=\"color: #008080; text-decoration-color: #008080\">     0</span> │ <span style=\"color: #008080; text-decoration-color: #008080\">     17</span> │ <span style=\"color: #008080; text-decoration-color: #008080\">  360.2</span> │ <span style=\"color: #008080; text-decoration-color: #008080\">    212200</span> │ <span style=\"color: #008000; text-decoration-color: #008000\">  ▇   </span> │  │\n",
       "│ │ <span style=\"color: #af87ff; text-decoration-color: #af87ff\"> BMI       </span> │ <span style=\"color: #008080; text-decoration-color: #008080\"> 34</span> │ <span style=\"color: #008080; text-decoration-color: #008080\"> 1.16</span> │ <span style=\"color: #008080; text-decoration-color: #008080\">   38.32</span> │ <span style=\"color: #008080; text-decoration-color: #008080\">   20.04</span> │ <span style=\"color: #008080; text-decoration-color: #008080\">    1</span> │ <span style=\"color: #008080; text-decoration-color: #008080\">  19.3</span> │ <span style=\"color: #008080; text-decoration-color: #008080\">   43.5</span> │ <span style=\"color: #008080; text-decoration-color: #008080\">   56.2</span> │ <span style=\"color: #008080; text-decoration-color: #008080\">      87.3</span> │ <span style=\"color: #008000; text-decoration-color: #008000\">▃▆▃▇▃ </span> │  │\n",
       "│ │ <span style=\"color: #af87ff; text-decoration-color: #af87ff\">under-five </span> │ <span style=\"color: #008080; text-decoration-color: #008080\">  0</span> │ <span style=\"color: #008080; text-decoration-color: #008080\">    0</span> │ <span style=\"color: #008080; text-decoration-color: #008080\">   42.04</span> │ <span style=\"color: #008080; text-decoration-color: #008080\">   160.4</span> │ <span style=\"color: #008080; text-decoration-color: #008080\">    0</span> │ <span style=\"color: #008080; text-decoration-color: #008080\">     0</span> │ <span style=\"color: #008080; text-decoration-color: #008080\">      4</span> │ <span style=\"color: #008080; text-decoration-color: #008080\">     28</span> │ <span style=\"color: #008080; text-decoration-color: #008080\">      2500</span> │ <span style=\"color: #008000; text-decoration-color: #008000\">  ▇   </span> │  │\n",
       "│ │ <span style=\"color: #af87ff; text-decoration-color: #af87ff\">deaths     </span> │     │       │          │          │       │        │         │         │            │        │  │\n",
       "│ │ <span style=\"color: #af87ff; text-decoration-color: #af87ff\">Polio      </span> │ <span style=\"color: #008080; text-decoration-color: #008080\"> 19</span> │ <span style=\"color: #008080; text-decoration-color: #008080\"> 0.65</span> │ <span style=\"color: #008080; text-decoration-color: #008080\">   82.55</span> │ <span style=\"color: #008080; text-decoration-color: #008080\">   23.43</span> │ <span style=\"color: #008080; text-decoration-color: #008080\">    3</span> │ <span style=\"color: #008080; text-decoration-color: #008080\">    78</span> │ <span style=\"color: #008080; text-decoration-color: #008080\">     93</span> │ <span style=\"color: #008080; text-decoration-color: #008080\">     97</span> │ <span style=\"color: #008080; text-decoration-color: #008080\">        99</span> │ <span style=\"color: #008000; text-decoration-color: #008000\">▁  ▁▂▇</span> │  │\n",
       "│ │ <span style=\"color: #af87ff; text-decoration-color: #af87ff\">Total      </span> │ <span style=\"color: #008080; text-decoration-color: #008080\">226</span> │ <span style=\"color: #008080; text-decoration-color: #008080\"> 7.69</span> │ <span style=\"color: #008080; text-decoration-color: #008080\">   5.938</span> │ <span style=\"color: #008080; text-decoration-color: #008080\">   2.498</span> │ <span style=\"color: #008080; text-decoration-color: #008080\"> 0.37</span> │ <span style=\"color: #008080; text-decoration-color: #008080\">  4.26</span> │ <span style=\"color: #008080; text-decoration-color: #008080\">  5.755</span> │ <span style=\"color: #008080; text-decoration-color: #008080\">  7.492</span> │ <span style=\"color: #008080; text-decoration-color: #008080\">      17.6</span> │ <span style=\"color: #008000; text-decoration-color: #008000\"> ▂▇▆▂ </span> │  │\n",
       "│ │ <span style=\"color: #af87ff; text-decoration-color: #af87ff\">expenditure</span> │     │       │          │          │       │        │         │         │            │        │  │\n",
       "│ │ <span style=\"color: #af87ff; text-decoration-color: #af87ff\">Diphtheria </span> │ <span style=\"color: #008080; text-decoration-color: #008080\"> 19</span> │ <span style=\"color: #008080; text-decoration-color: #008080\"> 0.65</span> │ <span style=\"color: #008080; text-decoration-color: #008080\">   82.32</span> │ <span style=\"color: #008080; text-decoration-color: #008080\">   23.72</span> │ <span style=\"color: #008080; text-decoration-color: #008080\">    2</span> │ <span style=\"color: #008080; text-decoration-color: #008080\">    78</span> │ <span style=\"color: #008080; text-decoration-color: #008080\">     93</span> │ <span style=\"color: #008080; text-decoration-color: #008080\">     97</span> │ <span style=\"color: #008080; text-decoration-color: #008080\">        99</span> │ <span style=\"color: #008000; text-decoration-color: #008000\">▁  ▁▂▇</span> │  │\n",
       "│ │ <span style=\"color: #af87ff; text-decoration-color: #af87ff\"> HIV/AIDS  </span> │ <span style=\"color: #008080; text-decoration-color: #008080\">  0</span> │ <span style=\"color: #008080; text-decoration-color: #008080\">    0</span> │ <span style=\"color: #008080; text-decoration-color: #008080\">   1.742</span> │ <span style=\"color: #008080; text-decoration-color: #008080\">   5.078</span> │ <span style=\"color: #008080; text-decoration-color: #008080\">  0.1</span> │ <span style=\"color: #008080; text-decoration-color: #008080\">   0.1</span> │ <span style=\"color: #008080; text-decoration-color: #008080\">    0.1</span> │ <span style=\"color: #008080; text-decoration-color: #008080\">    0.8</span> │ <span style=\"color: #008080; text-decoration-color: #008080\">      50.6</span> │ <span style=\"color: #008000; text-decoration-color: #008000\">  ▇   </span> │  │\n",
       "│ │ <span style=\"color: #af87ff; text-decoration-color: #af87ff\">GDP        </span> │ <span style=\"color: #008080; text-decoration-color: #008080\">448</span> │ <span style=\"color: #008080; text-decoration-color: #008080\">15.25</span> │ <span style=\"color: #008080; text-decoration-color: #008080\">    7483</span> │ <span style=\"color: #008080; text-decoration-color: #008080\">   14270</span> │ <span style=\"color: #008080; text-decoration-color: #008080\">1.681</span> │ <span style=\"color: #008080; text-decoration-color: #008080\"> 463.9</span> │ <span style=\"color: #008080; text-decoration-color: #008080\">   1767</span> │ <span style=\"color: #008080; text-decoration-color: #008080\">   5911</span> │ <span style=\"color: #008080; text-decoration-color: #008080\">    119200</span> │ <span style=\"color: #008000; text-decoration-color: #008000\">  ▇▁  </span> │  │\n",
       "│ │ <span style=\"color: #af87ff; text-decoration-color: #af87ff\">Population </span> │ <span style=\"color: #008080; text-decoration-color: #008080\">652</span> │ <span style=\"color: #008080; text-decoration-color: #008080\">22.19</span> │ <span style=\"color: #008080; text-decoration-color: #008080\">12750000</span> │ <span style=\"color: #008080; text-decoration-color: #008080\">61010000</span> │ <span style=\"color: #008080; text-decoration-color: #008080\">   34</span> │ <span style=\"color: #008080; text-decoration-color: #008080\">195800</span> │ <span style=\"color: #008080; text-decoration-color: #008080\">1387000</span> │ <span style=\"color: #008080; text-decoration-color: #008080\">7420000</span> │ <span style=\"color: #008080; text-decoration-color: #008080\">1294000000</span> │ <span style=\"color: #008000; text-decoration-color: #008000\">  ▇   </span> │  │\n",
       "│ │ <span style=\"color: #af87ff; text-decoration-color: #af87ff\"> thinness  </span> │ <span style=\"color: #008080; text-decoration-color: #008080\"> 34</span> │ <span style=\"color: #008080; text-decoration-color: #008080\"> 1.16</span> │ <span style=\"color: #008080; text-decoration-color: #008080\">    4.84</span> │ <span style=\"color: #008080; text-decoration-color: #008080\">    4.42</span> │ <span style=\"color: #008080; text-decoration-color: #008080\">  0.1</span> │ <span style=\"color: #008080; text-decoration-color: #008080\">   1.6</span> │ <span style=\"color: #008080; text-decoration-color: #008080\">    3.3</span> │ <span style=\"color: #008080; text-decoration-color: #008080\">    7.2</span> │ <span style=\"color: #008080; text-decoration-color: #008080\">      27.7</span> │ <span style=\"color: #008000; text-decoration-color: #008000\"> ▇▃▁  </span> │  │\n",
       "│ │ <span style=\"color: #af87ff; text-decoration-color: #af87ff\">1-19 years </span> │     │       │          │          │       │        │         │         │            │        │  │\n",
       "│ │ <span style=\"color: #af87ff; text-decoration-color: #af87ff\"> thinness  </span> │ <span style=\"color: #008080; text-decoration-color: #008080\"> 34</span> │ <span style=\"color: #008080; text-decoration-color: #008080\"> 1.16</span> │ <span style=\"color: #008080; text-decoration-color: #008080\">    4.87</span> │ <span style=\"color: #008080; text-decoration-color: #008080\">   4.509</span> │ <span style=\"color: #008080; text-decoration-color: #008080\">  0.1</span> │ <span style=\"color: #008080; text-decoration-color: #008080\">   1.5</span> │ <span style=\"color: #008080; text-decoration-color: #008080\">    3.3</span> │ <span style=\"color: #008080; text-decoration-color: #008080\">    7.2</span> │ <span style=\"color: #008080; text-decoration-color: #008080\">      28.6</span> │ <span style=\"color: #008000; text-decoration-color: #008000\"> ▇▃▁  </span> │  │\n",
       "│ │ <span style=\"color: #af87ff; text-decoration-color: #af87ff\">5-9 years  </span> │     │       │          │          │       │        │         │         │            │        │  │\n",
       "│ │ <span style=\"color: #af87ff; text-decoration-color: #af87ff\">Income     </span> │ <span style=\"color: #008080; text-decoration-color: #008080\">167</span> │ <span style=\"color: #008080; text-decoration-color: #008080\"> 5.68</span> │ <span style=\"color: #008080; text-decoration-color: #008080\">  0.6276</span> │ <span style=\"color: #008080; text-decoration-color: #008080\">  0.2109</span> │ <span style=\"color: #008080; text-decoration-color: #008080\">    0</span> │ <span style=\"color: #008080; text-decoration-color: #008080\"> 0.493</span> │ <span style=\"color: #008080; text-decoration-color: #008080\">  0.677</span> │ <span style=\"color: #008080; text-decoration-color: #008080\">  0.779</span> │ <span style=\"color: #008080; text-decoration-color: #008080\">     0.948</span> │ <span style=\"color: #008000; text-decoration-color: #008000\">▁ ▃▅▇▅</span> │  │\n",
       "│ │ <span style=\"color: #af87ff; text-decoration-color: #af87ff\">composition</span> │     │       │          │          │       │        │         │         │            │        │  │\n",
       "│ │ <span style=\"color: #af87ff; text-decoration-color: #af87ff\">of         </span> │     │       │          │          │       │        │         │         │            │        │  │\n",
       "│ │ <span style=\"color: #af87ff; text-decoration-color: #af87ff\">resources  </span> │     │       │          │          │       │        │         │         │            │        │  │\n",
       "│ │ <span style=\"color: #af87ff; text-decoration-color: #af87ff\">Schooling  </span> │ <span style=\"color: #008080; text-decoration-color: #008080\">163</span> │ <span style=\"color: #008080; text-decoration-color: #008080\"> 5.55</span> │ <span style=\"color: #008080; text-decoration-color: #008080\">   11.99</span> │ <span style=\"color: #008080; text-decoration-color: #008080\">   3.359</span> │ <span style=\"color: #008080; text-decoration-color: #008080\">    0</span> │ <span style=\"color: #008080; text-decoration-color: #008080\">  10.1</span> │ <span style=\"color: #008080; text-decoration-color: #008080\">   12.3</span> │ <span style=\"color: #008080; text-decoration-color: #008080\">   14.3</span> │ <span style=\"color: #008080; text-decoration-color: #008080\">      20.7</span> │ <span style=\"color: #008000; text-decoration-color: #008000\"> ▁▃▇▅▁</span> │  │\n",
       "│ └─────────────┴─────┴───────┴──────────┴──────────┴───────┴────────┴─────────┴─────────┴────────────┴────────┘  │\n",
       "│ <span style=\"font-style: italic\">                                                    string                                                    </span>  │\n",
       "│ ┏━━━━━━━━━━━━━━━━━━━━━━━━━━━┳━━━━━━━━━┳━━━━━━━━━━━━┳━━━━━━━━━━━━━━━━━━━━━━━━━━━━━━┳━━━━━━━━━━━━━━━━━━━━━━━━━━┓  │\n",
       "│ ┃<span style=\"font-weight: bold\"> column_name               </span>┃<span style=\"font-weight: bold\"> NA      </span>┃<span style=\"font-weight: bold\"> NA %       </span>┃<span style=\"font-weight: bold\"> words per row                </span>┃<span style=\"font-weight: bold\"> total words              </span>┃  │\n",
       "│ ┡━━━━━━━━━━━━━━━━━━━━━━━━━━━╇━━━━━━━━━╇━━━━━━━━━━━━╇━━━━━━━━━━━━━━━━━━━━━━━━━━━━━━╇━━━━━━━━━━━━━━━━━━━━━━━━━━┩  │\n",
       "│ │ <span style=\"color: #af87ff; text-decoration-color: #af87ff\">Country                  </span> │ <span style=\"color: #008080; text-decoration-color: #008080\">      0</span> │ <span style=\"color: #008080; text-decoration-color: #008080\">         0</span> │ <span style=\"color: #008080; text-decoration-color: #008080\">                         1.5</span> │ <span style=\"color: #008080; text-decoration-color: #008080\">                    4288</span> │  │\n",
       "│ │ <span style=\"color: #af87ff; text-decoration-color: #af87ff\">Status                   </span> │ <span style=\"color: #008080; text-decoration-color: #008080\">      0</span> │ <span style=\"color: #008080; text-decoration-color: #008080\">         0</span> │ <span style=\"color: #008080; text-decoration-color: #008080\">                           1</span> │ <span style=\"color: #008080; text-decoration-color: #008080\">                    2938</span> │  │\n",
       "│ └───────────────────────────┴─────────┴────────────┴──────────────────────────────┴──────────────────────────┘  │\n",
       "╰────────────────────────────────────────────────────── End ──────────────────────────────────────────────────────╯\n",
       "</pre>\n"
      ],
      "text/plain": [
       "╭──────────────────────────────────────────────── skimpy summary ─────────────────────────────────────────────────╮\n",
       "│ \u001b[3m         Data Summary         \u001b[0m \u001b[3m      Data Types       \u001b[0m                                                          │\n",
       "│ ┏━━━━━━━━━━━━━━━━━━━┳━━━━━━━━┓ ┏━━━━━━━━━━━━━┳━━━━━━━┓                                                          │\n",
       "│ ┃\u001b[1;36m \u001b[0m\u001b[1;36mdataframe        \u001b[0m\u001b[1;36m \u001b[0m┃\u001b[1;36m \u001b[0m\u001b[1;36mValues\u001b[0m\u001b[1;36m \u001b[0m┃ ┃\u001b[1;36m \u001b[0m\u001b[1;36mColumn Type\u001b[0m\u001b[1;36m \u001b[0m┃\u001b[1;36m \u001b[0m\u001b[1;36mCount\u001b[0m\u001b[1;36m \u001b[0m┃                                                          │\n",
       "│ ┡━━━━━━━━━━━━━━━━━━━╇━━━━━━━━┩ ┡━━━━━━━━━━━━━╇━━━━━━━┩                                                          │\n",
       "│ │ Number of rows    │ 2938   │ │ float64     │ 16    │                                                          │\n",
       "│ │ Number of columns │ 22     │ │ int32       │ 4     │                                                          │\n",
       "│ └───────────────────┴────────┘ │ string      │ 2     │                                                          │\n",
       "│                                └─────────────┴───────┘                                                          │\n",
       "│ \u001b[3m                                                    number                                                    \u001b[0m  │\n",
       "│ ┏━━━━━━━━━━━━━┳━━━━━┳━━━━━━━┳━━━━━━━━━━┳━━━━━━━━━━┳━━━━━━━┳━━━━━━━━┳━━━━━━━━━┳━━━━━━━━━┳━━━━━━━━━━━━┳━━━━━━━━┓  │\n",
       "│ ┃\u001b[1m \u001b[0m\u001b[1mcolumn_name\u001b[0m\u001b[1m \u001b[0m┃\u001b[1m \u001b[0m\u001b[1mNA \u001b[0m\u001b[1m \u001b[0m┃\u001b[1m \u001b[0m\u001b[1mNA % \u001b[0m\u001b[1m \u001b[0m┃\u001b[1m \u001b[0m\u001b[1mmean    \u001b[0m\u001b[1m \u001b[0m┃\u001b[1m \u001b[0m\u001b[1msd      \u001b[0m\u001b[1m \u001b[0m┃\u001b[1m \u001b[0m\u001b[1mp0   \u001b[0m\u001b[1m \u001b[0m┃\u001b[1m \u001b[0m\u001b[1mp25   \u001b[0m\u001b[1m \u001b[0m┃\u001b[1m \u001b[0m\u001b[1mp50    \u001b[0m\u001b[1m \u001b[0m┃\u001b[1m \u001b[0m\u001b[1mp75    \u001b[0m\u001b[1m \u001b[0m┃\u001b[1m \u001b[0m\u001b[1mp100      \u001b[0m\u001b[1m \u001b[0m┃\u001b[1m \u001b[0m\u001b[1mhist  \u001b[0m\u001b[1m \u001b[0m┃  │\n",
       "│ ┡━━━━━━━━━━━━━╇━━━━━╇━━━━━━━╇━━━━━━━━━━╇━━━━━━━━━━╇━━━━━━━╇━━━━━━━━╇━━━━━━━━━╇━━━━━━━━━╇━━━━━━━━━━━━╇━━━━━━━━┩  │\n",
       "│ │ \u001b[38;5;141mYear       \u001b[0m │ \u001b[36m  0\u001b[0m │ \u001b[36m    0\u001b[0m │ \u001b[36m    2008\u001b[0m │ \u001b[36m   4.614\u001b[0m │ \u001b[36m 2000\u001b[0m │ \u001b[36m  2004\u001b[0m │ \u001b[36m   2008\u001b[0m │ \u001b[36m   2012\u001b[0m │ \u001b[36m      2015\u001b[0m │ \u001b[32m▇▅▇▅▇▇\u001b[0m │  │\n",
       "│ │ \u001b[38;5;141mLife       \u001b[0m │ \u001b[36m 10\u001b[0m │ \u001b[36m 0.34\u001b[0m │ \u001b[36m   69.22\u001b[0m │ \u001b[36m   9.524\u001b[0m │ \u001b[36m 36.3\u001b[0m │ \u001b[36m  63.1\u001b[0m │ \u001b[36m   72.1\u001b[0m │ \u001b[36m   75.7\u001b[0m │ \u001b[36m        89\u001b[0m │ \u001b[32m ▁▃▅▇▂\u001b[0m │  │\n",
       "│ │ \u001b[38;5;141mexpectancy \u001b[0m │     │       │          │          │       │        │         │         │            │        │  │\n",
       "│ │ \u001b[38;5;141mAdult      \u001b[0m │ \u001b[36m 10\u001b[0m │ \u001b[36m 0.34\u001b[0m │ \u001b[36m   164.8\u001b[0m │ \u001b[36m   124.3\u001b[0m │ \u001b[36m    1\u001b[0m │ \u001b[36m    74\u001b[0m │ \u001b[36m    144\u001b[0m │ \u001b[36m    228\u001b[0m │ \u001b[36m       723\u001b[0m │ \u001b[32m ▇▇▃▁ \u001b[0m │  │\n",
       "│ │ \u001b[38;5;141mMortality  \u001b[0m │     │       │          │          │       │        │         │         │            │        │  │\n",
       "│ │ \u001b[38;5;141minfant     \u001b[0m │ \u001b[36m  0\u001b[0m │ \u001b[36m    0\u001b[0m │ \u001b[36m    30.3\u001b[0m │ \u001b[36m   117.9\u001b[0m │ \u001b[36m    0\u001b[0m │ \u001b[36m     0\u001b[0m │ \u001b[36m      3\u001b[0m │ \u001b[36m     22\u001b[0m │ \u001b[36m      1800\u001b[0m │ \u001b[32m  ▇   \u001b[0m │  │\n",
       "│ │ \u001b[38;5;141mdeaths     \u001b[0m │     │       │          │          │       │        │         │         │            │        │  │\n",
       "│ │ \u001b[38;5;141mAlcohol    \u001b[0m │ \u001b[36m194\u001b[0m │ \u001b[36m  6.6\u001b[0m │ \u001b[36m   4.603\u001b[0m │ \u001b[36m   4.052\u001b[0m │ \u001b[36m 0.01\u001b[0m │ \u001b[36m0.8775\u001b[0m │ \u001b[36m  3.755\u001b[0m │ \u001b[36m  7.703\u001b[0m │ \u001b[36m     17.87\u001b[0m │ \u001b[32m▇▃▃▂▁ \u001b[0m │  │\n",
       "│ │ \u001b[38;5;141mpercentage \u001b[0m │ \u001b[36m  0\u001b[0m │ \u001b[36m    0\u001b[0m │ \u001b[36m   738.3\u001b[0m │ \u001b[36m    1988\u001b[0m │ \u001b[36m    0\u001b[0m │ \u001b[36m 4.685\u001b[0m │ \u001b[36m  64.91\u001b[0m │ \u001b[36m  441.5\u001b[0m │ \u001b[36m     19480\u001b[0m │ \u001b[32m  ▇   \u001b[0m │  │\n",
       "│ │ \u001b[38;5;141mexpenditure\u001b[0m │     │       │          │          │       │        │         │         │            │        │  │\n",
       "│ │ \u001b[38;5;141mHepatitis B\u001b[0m │ \u001b[36m553\u001b[0m │ \u001b[36m18.82\u001b[0m │ \u001b[36m   80.94\u001b[0m │ \u001b[36m   25.07\u001b[0m │ \u001b[36m    1\u001b[0m │ \u001b[36m    77\u001b[0m │ \u001b[36m     92\u001b[0m │ \u001b[36m     97\u001b[0m │ \u001b[36m        99\u001b[0m │ \u001b[32m▁  ▁▂▇\u001b[0m │  │\n",
       "│ │ \u001b[38;5;141mMeasles    \u001b[0m │ \u001b[36m  0\u001b[0m │ \u001b[36m    0\u001b[0m │ \u001b[36m    2420\u001b[0m │ \u001b[36m   11470\u001b[0m │ \u001b[36m    0\u001b[0m │ \u001b[36m     0\u001b[0m │ \u001b[36m     17\u001b[0m │ \u001b[36m  360.2\u001b[0m │ \u001b[36m    212200\u001b[0m │ \u001b[32m  ▇   \u001b[0m │  │\n",
       "│ │ \u001b[38;5;141m BMI       \u001b[0m │ \u001b[36m 34\u001b[0m │ \u001b[36m 1.16\u001b[0m │ \u001b[36m   38.32\u001b[0m │ \u001b[36m   20.04\u001b[0m │ \u001b[36m    1\u001b[0m │ \u001b[36m  19.3\u001b[0m │ \u001b[36m   43.5\u001b[0m │ \u001b[36m   56.2\u001b[0m │ \u001b[36m      87.3\u001b[0m │ \u001b[32m▃▆▃▇▃ \u001b[0m │  │\n",
       "│ │ \u001b[38;5;141munder-five \u001b[0m │ \u001b[36m  0\u001b[0m │ \u001b[36m    0\u001b[0m │ \u001b[36m   42.04\u001b[0m │ \u001b[36m   160.4\u001b[0m │ \u001b[36m    0\u001b[0m │ \u001b[36m     0\u001b[0m │ \u001b[36m      4\u001b[0m │ \u001b[36m     28\u001b[0m │ \u001b[36m      2500\u001b[0m │ \u001b[32m  ▇   \u001b[0m │  │\n",
       "│ │ \u001b[38;5;141mdeaths     \u001b[0m │     │       │          │          │       │        │         │         │            │        │  │\n",
       "│ │ \u001b[38;5;141mPolio      \u001b[0m │ \u001b[36m 19\u001b[0m │ \u001b[36m 0.65\u001b[0m │ \u001b[36m   82.55\u001b[0m │ \u001b[36m   23.43\u001b[0m │ \u001b[36m    3\u001b[0m │ \u001b[36m    78\u001b[0m │ \u001b[36m     93\u001b[0m │ \u001b[36m     97\u001b[0m │ \u001b[36m        99\u001b[0m │ \u001b[32m▁  ▁▂▇\u001b[0m │  │\n",
       "│ │ \u001b[38;5;141mTotal      \u001b[0m │ \u001b[36m226\u001b[0m │ \u001b[36m 7.69\u001b[0m │ \u001b[36m   5.938\u001b[0m │ \u001b[36m   2.498\u001b[0m │ \u001b[36m 0.37\u001b[0m │ \u001b[36m  4.26\u001b[0m │ \u001b[36m  5.755\u001b[0m │ \u001b[36m  7.492\u001b[0m │ \u001b[36m      17.6\u001b[0m │ \u001b[32m ▂▇▆▂ \u001b[0m │  │\n",
       "│ │ \u001b[38;5;141mexpenditure\u001b[0m │     │       │          │          │       │        │         │         │            │        │  │\n",
       "│ │ \u001b[38;5;141mDiphtheria \u001b[0m │ \u001b[36m 19\u001b[0m │ \u001b[36m 0.65\u001b[0m │ \u001b[36m   82.32\u001b[0m │ \u001b[36m   23.72\u001b[0m │ \u001b[36m    2\u001b[0m │ \u001b[36m    78\u001b[0m │ \u001b[36m     93\u001b[0m │ \u001b[36m     97\u001b[0m │ \u001b[36m        99\u001b[0m │ \u001b[32m▁  ▁▂▇\u001b[0m │  │\n",
       "│ │ \u001b[38;5;141m HIV/AIDS  \u001b[0m │ \u001b[36m  0\u001b[0m │ \u001b[36m    0\u001b[0m │ \u001b[36m   1.742\u001b[0m │ \u001b[36m   5.078\u001b[0m │ \u001b[36m  0.1\u001b[0m │ \u001b[36m   0.1\u001b[0m │ \u001b[36m    0.1\u001b[0m │ \u001b[36m    0.8\u001b[0m │ \u001b[36m      50.6\u001b[0m │ \u001b[32m  ▇   \u001b[0m │  │\n",
       "│ │ \u001b[38;5;141mGDP        \u001b[0m │ \u001b[36m448\u001b[0m │ \u001b[36m15.25\u001b[0m │ \u001b[36m    7483\u001b[0m │ \u001b[36m   14270\u001b[0m │ \u001b[36m1.681\u001b[0m │ \u001b[36m 463.9\u001b[0m │ \u001b[36m   1767\u001b[0m │ \u001b[36m   5911\u001b[0m │ \u001b[36m    119200\u001b[0m │ \u001b[32m  ▇▁  \u001b[0m │  │\n",
       "│ │ \u001b[38;5;141mPopulation \u001b[0m │ \u001b[36m652\u001b[0m │ \u001b[36m22.19\u001b[0m │ \u001b[36m12750000\u001b[0m │ \u001b[36m61010000\u001b[0m │ \u001b[36m   34\u001b[0m │ \u001b[36m195800\u001b[0m │ \u001b[36m1387000\u001b[0m │ \u001b[36m7420000\u001b[0m │ \u001b[36m1294000000\u001b[0m │ \u001b[32m  ▇   \u001b[0m │  │\n",
       "│ │ \u001b[38;5;141m thinness  \u001b[0m │ \u001b[36m 34\u001b[0m │ \u001b[36m 1.16\u001b[0m │ \u001b[36m    4.84\u001b[0m │ \u001b[36m    4.42\u001b[0m │ \u001b[36m  0.1\u001b[0m │ \u001b[36m   1.6\u001b[0m │ \u001b[36m    3.3\u001b[0m │ \u001b[36m    7.2\u001b[0m │ \u001b[36m      27.7\u001b[0m │ \u001b[32m ▇▃▁  \u001b[0m │  │\n",
       "│ │ \u001b[38;5;141m1-19 years \u001b[0m │     │       │          │          │       │        │         │         │            │        │  │\n",
       "│ │ \u001b[38;5;141m thinness  \u001b[0m │ \u001b[36m 34\u001b[0m │ \u001b[36m 1.16\u001b[0m │ \u001b[36m    4.87\u001b[0m │ \u001b[36m   4.509\u001b[0m │ \u001b[36m  0.1\u001b[0m │ \u001b[36m   1.5\u001b[0m │ \u001b[36m    3.3\u001b[0m │ \u001b[36m    7.2\u001b[0m │ \u001b[36m      28.6\u001b[0m │ \u001b[32m ▇▃▁  \u001b[0m │  │\n",
       "│ │ \u001b[38;5;141m5-9 years  \u001b[0m │     │       │          │          │       │        │         │         │            │        │  │\n",
       "│ │ \u001b[38;5;141mIncome     \u001b[0m │ \u001b[36m167\u001b[0m │ \u001b[36m 5.68\u001b[0m │ \u001b[36m  0.6276\u001b[0m │ \u001b[36m  0.2109\u001b[0m │ \u001b[36m    0\u001b[0m │ \u001b[36m 0.493\u001b[0m │ \u001b[36m  0.677\u001b[0m │ \u001b[36m  0.779\u001b[0m │ \u001b[36m     0.948\u001b[0m │ \u001b[32m▁ ▃▅▇▅\u001b[0m │  │\n",
       "│ │ \u001b[38;5;141mcomposition\u001b[0m │     │       │          │          │       │        │         │         │            │        │  │\n",
       "│ │ \u001b[38;5;141mof         \u001b[0m │     │       │          │          │       │        │         │         │            │        │  │\n",
       "│ │ \u001b[38;5;141mresources  \u001b[0m │     │       │          │          │       │        │         │         │            │        │  │\n",
       "│ │ \u001b[38;5;141mSchooling  \u001b[0m │ \u001b[36m163\u001b[0m │ \u001b[36m 5.55\u001b[0m │ \u001b[36m   11.99\u001b[0m │ \u001b[36m   3.359\u001b[0m │ \u001b[36m    0\u001b[0m │ \u001b[36m  10.1\u001b[0m │ \u001b[36m   12.3\u001b[0m │ \u001b[36m   14.3\u001b[0m │ \u001b[36m      20.7\u001b[0m │ \u001b[32m ▁▃▇▅▁\u001b[0m │  │\n",
       "│ └─────────────┴─────┴───────┴──────────┴──────────┴───────┴────────┴─────────┴─────────┴────────────┴────────┘  │\n",
       "│ \u001b[3m                                                    string                                                    \u001b[0m  │\n",
       "│ ┏━━━━━━━━━━━━━━━━━━━━━━━━━━━┳━━━━━━━━━┳━━━━━━━━━━━━┳━━━━━━━━━━━━━━━━━━━━━━━━━━━━━━┳━━━━━━━━━━━━━━━━━━━━━━━━━━┓  │\n",
       "│ ┃\u001b[1m \u001b[0m\u001b[1mcolumn_name              \u001b[0m\u001b[1m \u001b[0m┃\u001b[1m \u001b[0m\u001b[1mNA     \u001b[0m\u001b[1m \u001b[0m┃\u001b[1m \u001b[0m\u001b[1mNA %      \u001b[0m\u001b[1m \u001b[0m┃\u001b[1m \u001b[0m\u001b[1mwords per row               \u001b[0m\u001b[1m \u001b[0m┃\u001b[1m \u001b[0m\u001b[1mtotal words             \u001b[0m\u001b[1m \u001b[0m┃  │\n",
       "│ ┡━━━━━━━━━━━━━━━━━━━━━━━━━━━╇━━━━━━━━━╇━━━━━━━━━━━━╇━━━━━━━━━━━━━━━━━━━━━━━━━━━━━━╇━━━━━━━━━━━━━━━━━━━━━━━━━━┩  │\n",
       "│ │ \u001b[38;5;141mCountry                  \u001b[0m │ \u001b[36m      0\u001b[0m │ \u001b[36m         0\u001b[0m │ \u001b[36m                         1.5\u001b[0m │ \u001b[36m                    4288\u001b[0m │  │\n",
       "│ │ \u001b[38;5;141mStatus                   \u001b[0m │ \u001b[36m      0\u001b[0m │ \u001b[36m         0\u001b[0m │ \u001b[36m                           1\u001b[0m │ \u001b[36m                    2938\u001b[0m │  │\n",
       "│ └───────────────────────────┴─────────┴────────────┴──────────────────────────────┴──────────────────────────┘  │\n",
       "╰────────────────────────────────────────────────────── End ──────────────────────────────────────────────────────╯\n"
      ]
     },
     "metadata": {},
     "output_type": "display_data"
    }
   ],
   "source": [
    "skim(df)"
   ]
  },
  {
   "cell_type": "code",
   "execution_count": null,
   "metadata": {},
   "outputs": [],
   "source": []
  }
 ],
 "metadata": {
  "kernelspec": {
   "display_name": "Python 3",
   "language": "python",
   "name": "python3"
  },
  "language_info": {
   "codemirror_mode": {
    "name": "ipython",
    "version": 3
   },
   "file_extension": ".py",
   "mimetype": "text/x-python",
   "name": "python",
   "nbconvert_exporter": "python",
   "pygments_lexer": "ipython3",
   "version": "3.12.3"
  }
 },
 "nbformat": 4,
 "nbformat_minor": 2
}
